{
 "cells": [
  {
   "cell_type": "markdown",
   "id": "62a54f5a",
   "metadata": {},
   "source": [
    "# Analysis\n",
    "\n",
    "This analysis is done on AOSP to evaluate three different hypothetical ways to elide tag checks:\n",
    "\n",
    "1. A system where there is an **instruction to explicitely check** a pointer for validity,\n",
    "1. A system where there is a prefix **instruction to elide** the tag check on the immediately following instruction\n",
    "1. A system where there is **both** of the above.\n",
    "\n",
    "All of the systems have a way to mark a whole codepage as being either default checked or unchecked.\n",
    "\n",
    "The data is obtained by buliding with HWASan, and using optimization remarks to determine whether accesses\n",
    "can be proven safe or not by stack safety analysis. In total, stack safety can prove 5580103 accesses, and\n",
    "cannot prove 16335447 of them.\n",
    "\n",
    "# Results\n",
    "\n",
    "For the system with an **instruction to explicitely check** we would need to emit 7727452 of those.\n",
    "This is the number of accesses that can not be proven safe in functions that have some accesses that can be. These\n",
    "functions would be placed on a default-unchecked page, with explicit checks for the accesses we cannot prove.\n",
    "\n",
    "For the system with an **instruction to elide** we would need to emit 5472311 of those.\n",
    "This is the number of accesses that can be proven safe in functions that have some accesses that cannot be. These\n",
    "functions would be placed on a default-checked page, with elide instructions for the accesses we can prove.\n",
    "\n",
    "For the system with an **both**, we would need to emit 3967045 instructions (check and elide combined).\n",
    "For each function, this is the minimum number of the two above, because now the code generation has the flexibility\n",
    "to choose whichever is optimal on a per-function basis.\n",
    "\n",
    "Note: the results for **instruction to explicitely check** can be optimized further by recognizing the fact that\n",
    "if there are multiple accesses to the same pointer, we do not need multiple checks in all cases. Also, further\n",
    "improvements in the compiler could lead to more accesses being proven safe. We currently make no attempt to prove\n",
    "heap accesses safe."
   ]
  },
  {
   "cell_type": "markdown",
   "id": "8bd945af",
   "metadata": {},
   "source": [
    "# Metholodogy\n",
    "\n",
    "Applied this patch to AOSP: https://r.android.com/3693469\n",
    "\n",
    "```\n",
    "$ export FORCE_AUDIO_SILENT=true\n",
    "$ export OUT_DIR=a64h_out\n",
    "$ export SANITIZE_TARGET=hwaddress\n",
    "$ source build/envsetup.sh\n",
    "$ lunch aosp_arm64-aosp_current-userdebug\n",
    "$ m\n",
    "````\n",
    "\n",
    "```\n",
    "$ cd a64h_out\n",
    "$ for f in $(find -name '*.yaml'); do mkdir -p ~/yamls/$(dirname $f); cp $f ~/yamls/$(dirname $f); done\n",
    "```\n",
    "\n",
    "```python\n",
    "import sys\n",
    "import os\n",
    "import ruamel.yaml\n",
    "import json\n",
    "from collections import defaultdict\n",
    "\n",
    "data = defaultdict(lambda: [0, 0])\n",
    "fileset = set()\n",
    "\n",
    "def handle_file(fn):\n",
    "    if fn in fileset:\n",
    "        return\n",
    "    fileset.add(fn)\n",
    "    yaml = ruamel.yaml.YAML()\n",
    "    with open(fn, 'r') as fd:\n",
    "        for x in yaml.load_all(fd):\n",
    "            if x.get('Pass', None) != 'hwasan' or x.get('Name', None) != 'ignoreAccess':\n",
    "                continue\n",
    "            data[fn + ':' + x['Function']][x.tag == '!Passed'] += 1\n",
    "\n",
    "if __name__ == '__main__':\n",
    "    for root, dirs, files in os.walk(sys.argv[1]):\n",
    "        for filename in files:\n",
    "            if not filename.endswith('yaml'):\n",
    "                continue\n",
    "            handle_file(os.path.join(root, filename))\n",
    "            print('.', end='')\n",
    "            sys.stdout.flush()\n",
    "    with open('result.json', 'w') as fd:\n",
    "        json.dump(data, fd)\n",
    "\n",
    "```"
   ]
  },
  {
   "cell_type": "markdown",
   "id": "9c35c8f7",
   "metadata": {},
   "source": []
  },
  {
   "cell_type": "code",
   "execution_count": 25,
   "id": "46c3f9d7",
   "metadata": {},
   "outputs": [],
   "source": [
    "import json\n",
    "import numpy as np\n",
    "import matplotlib.pyplot as plt"
   ]
  },
  {
   "cell_type": "code",
   "execution_count": 26,
   "id": "0ed18e1d",
   "metadata": {},
   "outputs": [],
   "source": [
    "with open('result.json') as f:\n",
    "    data = json.load(f)"
   ]
  },
  {
   "cell_type": "code",
   "execution_count": 27,
   "id": "5b2be7d9",
   "metadata": {},
   "outputs": [
    {
     "data": {
      "text/plain": [
       "(array([1.46000e+03, 6.40000e+01, 2.60000e+01, 2.20000e+01, 3.30000e+01,\n",
       "        3.10000e+01, 1.70000e+01, 3.70000e+01, 3.40000e+01, 1.10000e+01,\n",
       "        3.00000e+01, 2.20000e+01, 3.90000e+01, 2.20000e+01, 2.50000e+01,\n",
       "        3.20000e+01, 1.70000e+01, 3.60000e+01, 4.10000e+01, 2.30000e+01,\n",
       "        3.30000e+01, 3.80000e+01, 3.50000e+01, 2.40000e+01, 4.50000e+01,\n",
       "        3.70000e+01, 3.90000e+01, 3.30000e+01, 4.70000e+01, 5.60000e+01,\n",
       "        5.70000e+01, 4.20000e+01, 6.50000e+01, 4.70000e+01, 8.60000e+01,\n",
       "        5.70000e+01, 5.00000e+01, 6.00000e+01, 6.70000e+01, 7.40000e+01,\n",
       "        8.00000e+01, 9.20000e+01, 6.20000e+01, 6.50000e+01, 7.20000e+01,\n",
       "        1.18000e+02, 8.00000e+01, 9.10000e+01, 7.40000e+01, 9.40000e+01,\n",
       "        1.33000e+02, 4.07000e+02, 1.16000e+02, 1.21000e+02, 1.23800e+03,\n",
       "        1.60000e+02, 1.03000e+02, 1.44000e+02, 2.32000e+02, 1.69000e+02,\n",
       "        1.62000e+02, 2.74000e+02, 2.24000e+02, 1.61000e+02, 4.05000e+02,\n",
       "        1.70000e+02, 1.52000e+02, 1.55000e+02, 2.43000e+02, 1.95000e+02,\n",
       "        2.27000e+02, 2.53000e+02, 2.71000e+02, 2.75000e+02, 7.48000e+02,\n",
       "        2.71000e+02, 2.97000e+02, 4.20000e+02, 3.82000e+02, 3.62000e+02,\n",
       "        4.88000e+02, 4.07000e+02, 4.47000e+02, 4.92000e+02, 5.84000e+02,\n",
       "        8.93000e+02, 7.94000e+02, 6.75000e+02, 7.77000e+02, 9.32000e+02,\n",
       "        7.38000e+02, 8.67000e+02, 9.45000e+02, 1.47200e+03, 1.34400e+03,\n",
       "        3.62200e+03, 1.31400e+03, 2.47300e+03, 1.43900e+03, 1.74400e+03,\n",
       "        2.35100e+03, 2.84400e+03, 3.69800e+03, 3.22600e+03, 3.81700e+03,\n",
       "        3.57200e+03, 4.67900e+03, 5.48100e+03, 7.01800e+03, 8.29300e+03,\n",
       "        9.33400e+03, 8.70900e+03, 1.31590e+04, 1.57090e+04, 1.75610e+04,\n",
       "        2.17490e+04, 2.34310e+04, 3.24930e+04, 3.84780e+04, 5.33610e+04,\n",
       "        6.29140e+04, 8.38150e+04, 1.23634e+05, 1.76352e+05, 2.70245e+05,\n",
       "        4.69610e+04, 3.07820e+04, 1.97560e+04, 1.37490e+04, 8.02800e+03,\n",
       "        6.32000e+03, 4.85300e+03, 3.23700e+03, 2.76200e+03, 2.06600e+03,\n",
       "        1.34700e+03, 1.13000e+03, 1.13100e+03, 7.96000e+02, 7.07000e+02,\n",
       "        6.49000e+02, 6.09000e+02, 5.56000e+02, 4.82000e+02, 4.88000e+02,\n",
       "        3.69000e+02, 3.27000e+02, 4.00000e+02, 2.62000e+02, 2.92000e+02,\n",
       "        3.09000e+02, 3.66000e+02, 2.37000e+02, 1.76000e+02, 1.98000e+02,\n",
       "        1.75000e+02, 1.59000e+02, 9.50000e+01, 1.50000e+02, 1.53000e+02,\n",
       "        1.44000e+02, 1.93000e+02, 1.59000e+02, 9.60000e+01, 1.04000e+02,\n",
       "        9.70000e+01, 8.10000e+01, 7.40000e+01, 6.50000e+01, 7.10000e+01,\n",
       "        2.95000e+02, 8.30000e+01, 6.60000e+01, 6.00000e+01, 4.20000e+01,\n",
       "        5.00000e+01, 6.90000e+01, 3.00000e+01, 3.00000e+01, 4.50000e+01,\n",
       "        3.20000e+01, 2.50000e+01, 4.40000e+01, 2.40000e+01, 3.40000e+01,\n",
       "        2.10000e+01, 3.50000e+01, 2.20000e+01, 1.60000e+01, 3.70000e+01,\n",
       "        3.50000e+01, 2.10000e+01, 1.80000e+01, 1.10000e+01, 1.80000e+01,\n",
       "        3.60000e+01, 2.50000e+01, 2.80000e+01, 2.10000e+01, 1.60000e+01,\n",
       "        3.90000e+01, 1.00000e+01, 1.30000e+01, 3.70000e+01, 1.40000e+01,\n",
       "        7.00000e+00, 8.00000e+00, 1.40000e+01, 1.00000e+01, 1.30000e+01,\n",
       "        1.20000e+01, 1.00000e+01, 1.00000e+01, 7.00000e+00, 1.00000e+01,\n",
       "        1.40000e+01, 2.50000e+01, 1.30000e+01, 9.00000e+00, 1.10000e+01,\n",
       "        1.00000e+01, 9.00000e+00, 7.00000e+00, 6.00000e+00, 1.20000e+01,\n",
       "        7.00000e+00, 1.10000e+01, 1.20000e+01, 6.00000e+00, 3.00000e+00,\n",
       "        8.00000e+00, 1.20000e+01, 5.00000e+00, 5.00000e+00, 8.00000e+00,\n",
       "        3.00000e+00, 7.00000e+00, 1.00000e+00, 5.00000e+00, 4.00000e+00,\n",
       "        5.00000e+00, 5.00000e+00, 6.00000e+00, 1.10000e+01, 1.30000e+01,\n",
       "        7.00000e+00, 3.00000e+00, 4.00000e+00, 5.00000e+00, 3.42000e+02]),\n",
       " array([-250., -248., -246., -244., -242., -240., -238., -236., -234.,\n",
       "        -232., -230., -228., -226., -224., -222., -220., -218., -216.,\n",
       "        -214., -212., -210., -208., -206., -204., -202., -200., -198.,\n",
       "        -196., -194., -192., -190., -188., -186., -184., -182., -180.,\n",
       "        -178., -176., -174., -172., -170., -168., -166., -164., -162.,\n",
       "        -160., -158., -156., -154., -152., -150., -148., -146., -144.,\n",
       "        -142., -140., -138., -136., -134., -132., -130., -128., -126.,\n",
       "        -124., -122., -120., -118., -116., -114., -112., -110., -108.,\n",
       "        -106., -104., -102., -100.,  -98.,  -96.,  -94.,  -92.,  -90.,\n",
       "         -88.,  -86.,  -84.,  -82.,  -80.,  -78.,  -76.,  -74.,  -72.,\n",
       "         -70.,  -68.,  -66.,  -64.,  -62.,  -60.,  -58.,  -56.,  -54.,\n",
       "         -52.,  -50.,  -48.,  -46.,  -44.,  -42.,  -40.,  -38.,  -36.,\n",
       "         -34.,  -32.,  -30.,  -28.,  -26.,  -24.,  -22.,  -20.,  -18.,\n",
       "         -16.,  -14.,  -12.,  -10.,   -8.,   -6.,   -4.,   -2.,    0.,\n",
       "           2.,    4.,    6.,    8.,   10.,   12.,   14.,   16.,   18.,\n",
       "          20.,   22.,   24.,   26.,   28.,   30.,   32.,   34.,   36.,\n",
       "          38.,   40.,   42.,   44.,   46.,   48.,   50.,   52.,   54.,\n",
       "          56.,   58.,   60.,   62.,   64.,   66.,   68.,   70.,   72.,\n",
       "          74.,   76.,   78.,   80.,   82.,   84.,   86.,   88.,   90.,\n",
       "          92.,   94.,   96.,   98.,  100.,  102.,  104.,  106.,  108.,\n",
       "         110.,  112.,  114.,  116.,  118.,  120.,  122.,  124.,  126.,\n",
       "         128.,  130.,  132.,  134.,  136.,  138.,  140.,  142.,  144.,\n",
       "         146.,  148.,  150.,  152.,  154.,  156.,  158.,  160.,  162.,\n",
       "         164.,  166.,  168.,  170.,  172.,  174.,  176.,  178.,  180.,\n",
       "         182.,  184.,  186.,  188.,  190.,  192.,  194.,  196.,  198.,\n",
       "         200.,  202.,  204.,  206.,  208.,  210.,  212.,  214.,  216.,\n",
       "         218.,  220.,  222.,  224.,  226.,  228.,  230.,  232.,  234.,\n",
       "         236.,  238.,  240.,  242.,  244.,  246.,  248.,  250.]),\n",
       " <BarContainer object of 250 artists>)"
      ]
     },
     "execution_count": 27,
     "metadata": {},
     "output_type": "execute_result"
    },
    {
     "data": {
      "image/png": "[encoded data removed]",
      "text/plain": [
       "<Figure size 640x480 with 1 Axes>"
      ]
     },
     "metadata": {},
     "output_type": "display_data"
    }
   ],
   "source": [
    "plt.hist(\n",
    "    np.clip([v[1] - v[0] for _, v in data.items()], -250, 250),\n",
    "    bins=250\n",
    ")"
   ]
  },
  {
   "cell_type": "code",
   "execution_count": null,
   "id": "8206e212",
   "metadata": {},
   "outputs": [],
   "source": [
    "# We only need to emit checks if there are SOME unchecked in the function,\n",
    "# otherwise just place on a checked page.\n",
    "checked = sum([v[0] for _, v in data.items() if v[1]])\n",
    "# We only need to elide if there are SOME we want to check, otherwise just\n",
    "# place on a non-checked page.\n",
    "elided = sum([v[1] for _, v in data.items() if v[0]])"
   ]
  },
  {
   "cell_type": "code",
   "execution_count": null,
   "id": "dc697a2a",
   "metadata": {},
   "outputs": [
    {
     "name": "stdout",
     "output_type": "stream",
     "text": [
      "Check instructions  7727452\n"
     ]
    }
   ],
   "source": [
    "print(\"Check instructions \", checked)"
   ]
  },
  {
   "cell_type": "code",
   "execution_count": null,
   "id": "c4af0a94",
   "metadata": {},
   "outputs": [
    {
     "name": "stdout",
     "output_type": "stream",
     "text": [
      "Elide instructions  5472311\n"
     ]
    }
   ],
   "source": [
    "print(\"Elide instructions \", elided)"
   ]
  },
  {
   "cell_type": "code",
   "execution_count": null,
   "id": "0f02d2c6",
   "metadata": {},
   "outputs": [
    {
     "name": "stdout",
     "output_type": "stream",
     "text": [
      "Optimal             3967045\n"
     ]
    }
   ],
   "source": [
    "print(\"Optimal            \", sum([min(v) for _, v in data.items()]))"
   ]
  },
  {
   "cell_type": "code",
   "execution_count": null,
   "id": "499b03e3",
   "metadata": {},
   "outputs": [
    {
     "data": {
      "text/plain": [
       "1.4121002991240812"
      ]
     },
     "execution_count": 17,
     "metadata": {},
     "output_type": "execute_result"
    }
   ],
   "source": [
    "checked / elided"
   ]
  },
  {
   "cell_type": "code",
   "execution_count": null,
   "id": "2dcd85a4",
   "metadata": {},
   "outputs": [
    {
     "data": {
      "text/plain": [
       "8.602680206298828"
      ]
     },
     "execution_count": 18,
     "metadata": {},
     "output_type": "execute_result"
    }
   ],
   "source": [
    "((checked - elided) * 4) / 1024**2"
   ]
  },
  {
   "cell_type": "code",
   "execution_count": null,
   "id": "8221c476",
   "metadata": {},
   "outputs": [],
   "source": [
    "total_checked = sum(v[0] for _, v in data.items())\n",
    "total_elided = sum(v[1] for _, v in data.items())"
   ]
  },
  {
   "cell_type": "code",
   "execution_count": null,
   "id": "65707858",
   "metadata": {},
   "outputs": [
    {
     "name": "stdout",
     "output_type": "stream",
     "text": [
      "Total checked  16335447\n"
     ]
    }
   ],
   "source": [
    "print(\"Total checked \", total_checked)"
   ]
  },
  {
   "cell_type": "code",
   "execution_count": null,
   "id": "112247d9",
   "metadata": {},
   "outputs": [
    {
     "name": "stdout",
     "output_type": "stream",
     "text": [
      "Total elided  5580103\n"
     ]
    }
   ],
   "source": [
    "print(\"Total elided \", total_elided)"
   ]
  }
 ],
 "metadata": {
  "kernelspec": {
   "display_name": ".venv",
   "language": "python",
   "name": "python3"
  },
  "language_info": {
   "codemirror_mode": {
    "name": "ipython",
    "version": 3
   },
   "file_extension": ".py",
   "mimetype": "text/x-python",
   "name": "python",
   "nbconvert_exporter": "python",
   "pygments_lexer": "ipython3",
   "version": "3.12.9"
  }
 },
 "nbformat": 4,
 "nbformat_minor": 5
}
